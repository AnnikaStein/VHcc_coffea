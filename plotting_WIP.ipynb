{
 "cells": [
  {
   "cell_type": "code",
   "execution_count": null,
   "id": "0d00be66-9139-4b0b-8f76-a1170a0af12b",
   "metadata": {},
   "outputs": [],
   "source": [
    "import pandas as pd\n",
    "#xs_dict={'ZH_HToCC_ZToLL_M125_13TeV_powheg_pythia8':0.002342},\n",
    "lumi= 41500 "
   ]
  },
  {
   "cell_type": "code",
   "execution_count": null,
   "id": "2f2c57f0-6b50-4422-913c-85c8732a90e8",
   "metadata": {},
   "outputs": [],
   "source": [
    "%load_ext autoreload\n",
    "%autoreload 2"
   ]
  },
  {
   "cell_type": "code",
   "execution_count": null,
   "id": "b2502509-57ac-4317-bf1c-5431edcae837",
   "metadata": {},
   "outputs": [],
   "source": [
    "import numpy as np\n",
    "import matplotlib.pyplot as plt\n",
    "import mplhep as hep\n",
    "from matplotlib.offsetbox import AnchoredText\n",
    "from coffea.util import load\n",
    "from coffea.hist import plot\n",
    "from coffea import hist\n",
    "np.seterr(all=\"ignore\")\n",
    "import os,math,re,json,shutil\n",
    "\n",
    "plt.style.use(hep.style.ROOT)\n",
    "\n",
    "\n",
    "data_err_opts = {\n",
    "    'linestyle': 'none',\n",
    "    'marker': '.',\n",
    "    'markersize': 10.,\n",
    "    'color': 'k',\n",
    "    'elinewidth': 1,\n",
    "}\n",
    "data_err_opts2 = {\n",
    "    'linestyle': 'none',\n",
    "    'marker': '.',\n",
    "    'markersize': 10.,\n",
    "    'color': 'b',\n",
    "    'elinewidth': 1,\n",
    "}\n",
    "from cycler import cycler\n",
    "import matplotlib as mpl\n",
    "# colors=[\"#F44336\",\"#E91E63\",\"#9C27B0\",\"#673AB7\",\"#3F51B5\",\"#2196F3\",\"#03A9F4\",\"#00BCD4\",\"#009688\",\"#4CAF50\",\"#8BC34A\",\"#CDDC39\",\"#FFEB3B\",\"#FFC107\",\"#FF9800\",\"#FF5722\",\"#795548\",\"#BDBDBD\",\"#9E9E9E\",\"#616161\",\"#90BED4\",\"#607D8B\",\"#455A64\"]\n",
    "\n",
    "#colors = [\"#666666\",\"#1D6996\",\"#38A6A5\",\"#0F8554\",\"#73AF48\",\"#EDAD08\",\"#E17C05\",\"#CC503E\",\"#554e99\",\"#6f4e99\",\"#854e99\",\"#994e85\",\"#666666\"]\n",
    "colors = [\"darkblue\",\"lightpink\",\"lightcoral\",\"aqua\",\"greenyellow\",\"olivedrab\",\"palegreen\",\"fuchsia\",\"red\",\"darkviolet\",\"firebrick\",\"plum\",\"orange\"]\n",
    "mpl.rcParams[\"axes.prop_cycle\"] = cycler('color', colors)\n",
    "from matplotlib.offsetbox import AnchoredText"
   ]
  },
  {
   "cell_type": "code",
   "execution_count": null,
   "id": "6579b5e9-4ee4-4ace-b814-548400a4046a",
   "metadata": {},
   "outputs": [],
   "source": [
    "from utils.xs_scaler import scale_xs\n",
    "\n",
    "with open('metadata/mergemap_2017_Zll_used_keys.json') as json_file:  \n",
    "    merge_map = json.load(json_file)\n",
    "#with open('metadata/plotmap.json') as pltf:\n",
    "#    var_map = json.load(pltf)"
   ]
  },
  {
   "cell_type": "code",
   "execution_count": null,
   "id": "26f07174-d873-4204-9d00-812b324ecfc1",
   "metadata": {},
   "outputs": [],
   "source": [
    "data = load('datasamples_2017_Zll_used.coffea')\n",
    "higgs = load('mcsamples_2017_higgs_Zll_used.coffea')\n",
    "vjets = load('mcsamples_2017_vjets_Zll_used.coffea')\n",
    "vjets_ext = load('mcsamples_2017_vjets_ext_Zll_used.coffea')\n",
    "other = load('mcsamples_2017_other_Zll_used.coffea')"
   ]
  },
  {
   "cell_type": "code",
   "execution_count": null,
   "id": "7bcca32d-d08e-4df4-81a3-b7cc681b6c64",
   "metadata": {
    "scrolled": true,
    "tags": []
   },
   "outputs": [],
   "source": [
    "data"
   ]
  },
  {
   "cell_type": "code",
   "execution_count": null,
   "id": "a3accd91-f315-45f8-af53-76847a6c6a80",
   "metadata": {
    "scrolled": true,
    "tags": []
   },
   "outputs": [],
   "source": [
    "higgs"
   ]
  },
  {
   "cell_type": "code",
   "execution_count": null,
   "id": "4d3e462c-1397-4781-9852-c7825e8e6dcc",
   "metadata": {
    "scrolled": true,
    "tags": []
   },
   "outputs": [],
   "source": [
    "other"
   ]
  },
  {
   "cell_type": "code",
   "execution_count": null,
   "id": "e90a5ebd-dd1d-4196-a9f3-776dc48a2feb",
   "metadata": {
    "scrolled": true,
    "tags": []
   },
   "outputs": [],
   "source": [
    "vjets"
   ]
  },
  {
   "cell_type": "code",
   "execution_count": null,
   "id": "05c1435c-f3c5-4872-984d-8f760ffc625e",
   "metadata": {
    "scrolled": true,
    "tags": []
   },
   "outputs": [],
   "source": [
    "vjets_ext"
   ]
  },
  {
   "cell_type": "code",
   "execution_count": null,
   "id": "fed25880-1e4a-4a0d-b29f-856e75438755",
   "metadata": {
    "scrolled": true,
    "tags": []
   },
   "outputs": [],
   "source": [
    "data['sumw']"
   ]
  },
  {
   "cell_type": "code",
   "execution_count": null,
   "id": "c3f82161-a003-4fc7-b9f3-f41260cf6964",
   "metadata": {
    "scrolled": true,
    "tags": []
   },
   "outputs": [],
   "source": [
    "higgs['sumw']"
   ]
  },
  {
   "cell_type": "code",
   "execution_count": null,
   "id": "e09fb811-87d2-48ef-98b2-af3361539d4c",
   "metadata": {
    "scrolled": true,
    "tags": []
   },
   "outputs": [],
   "source": [
    "other['sumw']"
   ]
  },
  {
   "cell_type": "code",
   "execution_count": null,
   "id": "26447aba-37de-4d3f-bce2-b50aefe466e7",
   "metadata": {
    "scrolled": true,
    "tags": []
   },
   "outputs": [],
   "source": [
    "vjets['sumw']"
   ]
  },
  {
   "cell_type": "code",
   "execution_count": null,
   "id": "64d5b975-9f6f-4990-83dd-311653884f58",
   "metadata": {
    "scrolled": true,
    "tags": []
   },
   "outputs": [],
   "source": [
    "vjets_ext['sumw']"
   ]
  },
  {
   "cell_type": "code",
   "execution_count": null,
   "id": "ac1eacc8-f501-4c63-bbc2-a936e3e1b3de",
   "metadata": {
    "scrolled": true,
    "tags": []
   },
   "outputs": [],
   "source": [
    "data = load('datasamples_2017_Zll_used.coffea')\n",
    "higgs = load('mcsamples_2017_higgs_Zll_used.coffea')\n",
    "vjets = load('mcsamples_2017_vjets_Zll_used.coffea')\n",
    "#vjets_ext = load('mcsamples_2017_vjets_ext_Zll_used.coffea')\n",
    "other = load('mcsamples_2017_other_Zll_used.coffea')\n",
    "\n",
    "#ch = ['mumu','ee']\n",
    "ch = ['mumu']\n",
    "\n",
    "#regions = ['SR','SR_2LL','SR_2LH','CR_Zcc_2LL','CR_Zcc_2LH','CR_Z_LF_2LL','CR_Z_LF_2LH','CR_Z_HF_2LL','CR_Z_HF_2LH','CR_t_tbar_2LL','CR_t_tbar_2LH']\n",
    "#regions = ['SR_2LL','SR_2LH']\n",
    "regions = ['SR_2LL']\n",
    "#region_map = {'SR_2LL':'Low $p_T(V)$ SR','SR_2LH':'High $p_T(V)$ SR'}\n",
    "region_map = {'SR_2LL':'Low $p_T(V)$ SR'}\n",
    "\n",
    "#for var in ['leading_jetflav_btagDeepFlavCvL','subleading_jetflav_btagDeepFlavCvL','leading_jetflav_btagDeepFlavCvB','leading_jetflav_btagDeepFlavB','leading_jetflav_btagDeepFlavC']:\n",
    "for var in ['leading_jetflav_btagDeepFlavCvL']:\n",
    "    scales=1\n",
    "    #5e4\n",
    "#     if var in [ 'nj','nele','nmu','njmet']:scales=1000\n",
    "    #events = something['sumw']\n",
    "    #print(a_test_output[var],41500*scales,events)\n",
    "    #hmpf = scale_xs()\n",
    "    higgs[var]=scale_xs(higgs[var],415.00*scales,higgs['sumw'])\n",
    "    other[var]=scale_xs(other[var],415.00,other['sumw'])\n",
    "    vjets[var]=scale_xs(vjets[var],415.00,vjets['sumw'])\n",
    "    #vjets[var]=scale_xs(vjets[var],41500,vjets['sumw']+vjets_ext['sumw'])\n",
    "    #vjets_ext[var]=scale_xs(vjets_ext[var],41500,vjets['sumw']+vjets_ext['sumw'])\n",
    "    \n",
    "    \n",
    "    data[var]=data[var].group(\"datasetSplit\",hist.Cat(\"plotgroup\", \"plotgroup\"), {\"Data\" : merge_map['Data']})\n",
    "    higgs[var]=higgs[var].group(\"dataset\",hist.Cat(\"plotgroup\", \"plotgroup\"),merge_map)\n",
    "    #other[var]=other[var].group(\"datasetSplit\",hist.Cat(\"plotgroup\", \"plotgroup\"), merge_map['Single top','t#bar{t}','VV+other','VV+cc'])\n",
    "    #vjets[var]=vjets[var].group(\"datasetSplit\",hist.Cat(\"plotgroup\", \"plotgroup\"),merge_map['Z+l','Z+b','Z+c'])\n",
    "    #vjets_ext[var]=vjets_ext[var].group(\"datasetSplit\",hist.Cat(\"plotgroup\", \"plotgroup\"),merge_map['Z+l','Z+b','Z+c'])\n",
    "    other[var]=other[var].group(\"datasetSplit\",hist.Cat(\"plotgroup\", \"plotgroup\"), merge_map)\n",
    "    vjets[var]=vjets[var].group(\"datasetSplit\",hist.Cat(\"plotgroup\", \"plotgroup\"), merge_map)\n",
    "    #vjets_ext[var]=vjets_ext[var].group(\"datasetSplit\",hist.Cat(\"plotgroup\", \"plotgroup\"), merge_map)\n",
    "    \n",
    "    \n",
    "    if var == 'nbj' or var == 'ncj' or 'jetpt_' in var or 'jetcsv_' in var  or 'jetpn_' in var or 'dr' in var or var=='MET_covXY' : continue    \n",
    "    \n",
    "    if var == 'cutflow':break\n",
    "\n",
    "    for chs in ch:\n",
    "        for region in regions:\n",
    "                print(var,chs,region)\n",
    "                if 'SR' not in region and '_dphi' in var: continue\n",
    "                fig, ((ax),(rax)) = plt.subplots(2, 1, figsize=(12, 12), gridspec_kw={\"height_ratios\": (3, 1)}, sharex=True)\n",
    "                hep.cms.label(\"Work in progress\", data=True, lumi=41.5, year=2017,ax=ax)\n",
    "\n",
    "                fig.subplots_adjust(hspace=.07)\n",
    "#                     ax = plot.plot1d(outputWWl_b[var].sum(\"flav\").integrate(\"lepflav\",chs).integrate(\"region\",region),overlay=\"plotgroup\",stack=True,clear=False,order=['Z+jets','W+jets','tt-dilep','tt-semilep','ST','WW','WZ','ZZ'],ax=ax)\n",
    "#                     ax = plot.plot1d(outputWWl_b[var].sum(\"flav\").integrate(\"lepflav\",chs).integrate(\"region\",['DY_CRl','DY_CRb','DY_CRc']),overlay=\"plotgroup\",stack=True,clear=False,order=['Z+jets','W+jets','tt-dilep','tt-semilep','ST','WW','WZ','ZZ'],ax=ax)\n",
    "#                 hmc=outputWWl_b[var].sum(\"flav\").integrate(\"lepflav\",chs).integrate(\"region\",'DY_CRl').add(outputWWl_b[var].sum(\"flav\").integrate(\"lepflav\",chs).integrate(\"region\",'DY_CRb'))\n",
    "#                 hmc.add(outputWWl_b[var].sum(\"flav\").integrate(\"lepflav\",chs).integrate(\"region\",'DY_CRc'))\n",
    "                \n",
    "                #hmc = outputWWl_b[var].integrate(\"lepflav\",chs).integrate(\"region\",region)\n",
    "                #ax = plot.plot1d(hmc.sum('flav'),overlay=\"plotgroup\",stack=True,clear=False,order=['Z+jets','W+jets','tt-dilep','tt-semilep','ST','WW','WZ','ZZ'],ax=ax)\n",
    "                #plot.plot1d(hmc.integrate('plotgroup','Z+jets'),overlay=\"flav\",stack=True,ax=ax,clear=False)\n",
    "                #hdata = outputWWl_data[var].integrate(\"lepflav\",chs).integrate('region',region).integrate('plotgroup','data_%s'%(chs)).sum('flav')\n",
    "                \n",
    "                plot.plot1d(other[var].sum(\"flav\").sum(\"dataset\").integrate(\"lepflav\",chs).integrate('region',region),stack=True,\n",
    "                            overlay='plotgroup',clear=False,ax=ax)\n",
    "                plot.plot1d(vjets[var].sum(\"flav\").sum(\"dataset\").integrate(\"lepflav\",chs).integrate('region',region),stack=True,\n",
    "                            overlay='plotgroup',clear=False,ax=ax)\n",
    "                plot.plot1d(higgs[var].sum(\"flav\").sum(\"datasetSplit\").integrate(\"lepflav\",chs).integrate('region',region),stack=False,\n",
    "                            overlay='plotgroup',clear=False,ax=ax)\n",
    "                #plot.plot1d(vjets_ext[var].sum(\"flav\").sum(\"dataset\").integrate(\"lepflav\",chs).integrate('region',region),stack=True,\n",
    "                #            overlay='plotgroup',clear=False,ax=ax)\n",
    "                #print(something[var].sum(\"flav\").sum(\"dataset\").sum(\"datasetSplit\").integrate(\"lepflav\",chs).integrate('region',region))\n",
    "                plot.plot1d(data[var].sum(\"flav\").sum(\"dataset\").sum(\"plotgroup\").integrate(\"lepflav\",chs).integrate('region',region),clear=False,error_opts=data_err_opts,ax=ax)\n",
    "                #plot.plot1d(data_output[var].sum(\"flav\").sum(\"dataset\").integrate(\"lepflav\",chs).integrate('region',region),clear=False,ax=ax)\n",
    "                #plot.plot1d(hdata,clear=False,error_opts=data_err_opts,ax=ax)\n",
    "                \n",
    "#                 print(sum(hdata.values()[()]),sum(hmc.sum('plotgroup').values()[()]))\n",
    "                #print(sum(outputWWl_s[var].sum(\"flav\").integrate(\"lepflav\",chs).integrate('region',region).integrate('dataset','gchcWW2L2Nu').values()[()]),sum(hdata.values()[()]))\n",
    "                \n",
    "                #rax = plot.plotratio(num=hdata,\n",
    "                #                                denom=hmc.sum('plotgroup').sum('flav'),\n",
    "                #                                        ax=rax,\n",
    "                #                                        error_opts=data_err_opts,\n",
    "                #                                        denom_fill_opts={},                                              \n",
    "        #                                       \n",
    "                #                                       unc='num',\n",
    "                #                                   clear=False\n",
    "                #                                       )\n",
    "                  \n",
    "#                 \n",
    "                rax.set_ylim(0.5,1.5)\n",
    "                rax.set_ylabel('Data/MC')\n",
    "                #rax.set_xlabel(var_map[var])\n",
    "                rax.set_xlabel(var)\n",
    "                ax.set_xlabel('')\n",
    "                chl = chs\n",
    "                if chs =='mumu' :chl='$\\mu\\mu$'\n",
    "                #if chs =='emu' :chs='e$\\mu$'\n",
    "                at = AnchoredText(chl+\"  \"+region_map[region]+\"\\n\" +r\"H$\\rightarrow c\\overline{c}, 2\\ell$\"                                                         \n",
    "                                            , loc='upper left',frameon=False)\n",
    "                ax.add_artist(at)\n",
    "                leg_label = ax.get_legend_handles_labels()[1][0:]\n",
    "                for (i,lab) in enumerate(leg_label):\n",
    "                    if '#' in lab:\n",
    "                        leg_label[i] = lab.split('#')[0] + r\"$\\bar{\" +lab.split('#')[1].split('{')[1][0] + (r\"})$\" if 't' not in lab else r\"}$\" )\n",
    "                leg_label[-1]='Data'\n",
    "                # leg_label[-2]='Signalx%d' %(scales)\n",
    "#                 print(ax.get_legend_handles_labels()[1])\n",
    "                ax.legend(loc=\"upper right\",handles=ax.get_legend_handles_labels()[0][0:],ncol=2,labels=leg_label,fontsize=18)\n",
    "                hep.mpl_magic(ax= ax)            "
   ]
  },
  {
   "cell_type": "code",
   "execution_count": null,
   "id": "d16072e3-cfe3-41db-a011-5caf1904d544",
   "metadata": {
    "scrolled": true,
    "tags": []
   },
   "outputs": [],
   "source": [
    "\n",
    "data = load('datasamples_2017_Zll_used.coffea')\n",
    "higgs = load('mcsamples_2017_higgs_Zll_used.coffea')\n",
    "vjets = load('mcsamples_2017_vjets_Zll_used.coffea')\n",
    "#vjets_ext = load('mcsamples_2017_vjets_ext_Zll_used.coffea')\n",
    "other = load('mcsamples_2017_other_Zll_used.coffea')\n",
    "\n",
    "#ch = ['mumu','ee']\n",
    "ch = ['mumu']\n",
    "\n",
    "#regions = ['SR','SR_2LL','SR_2LH','CR_Zcc_2LL','CR_Zcc_2LH','CR_Z_LF_2LL','CR_Z_LF_2LH','CR_Z_HF_2LL','CR_Z_HF_2LH','CR_t_tbar_2LL','CR_t_tbar_2LH']\n",
    "#regions = ['SR_2LL','SR_2LH']\n",
    "regions = ['SR_2LL']\n",
    "#region_map = {'SR_2LL':'Low $p_T(V)$ SR','SR_2LH':'High $p_T(V)$ SR'}\n",
    "region_map = {'SR_2LL':'Low $p_T(V)$ SR'}\n",
    "\n",
    "#for var in ['leading_jetflav_btagDeepFlavCvL','subleading_jetflav_btagDeepFlavCvL','leading_jetflav_btagDeepFlavCvB','leading_jetflav_btagDeepFlavB','leading_jetflav_btagDeepFlavC']:\n",
    "for var in ['leading_jetflav_btagDeepFlavCvL']:\n",
    "    scales=1\n",
    "    \n",
    "    data[var]=data[var].group(\"datasetSplit\",hist.Cat(\"plotgroup\", \"plotgroup\"), {\"Data\" : merge_map['Data']})\n",
    "    higgs[var]=higgs[var].group(\"dataset\",hist.Cat(\"plotgroup\", \"plotgroup\"),merge_map)\n",
    "    other[var]=other[var].group(\"datasetSplit\",hist.Cat(\"plotgroup\", \"plotgroup\"), merge_map)\n",
    "    vjets[var]=vjets[var].group(\"datasetSplit\",hist.Cat(\"plotgroup\", \"plotgroup\"), merge_map)\n",
    "    #vjets_ext[var]=vjets_ext[var].group(\"datasetSplit\",hist.Cat(\"plotgroup\", \"plotgroup\"), merge_map)\n",
    "    \n",
    "    \n",
    "    if var == 'nbj' or var == 'ncj' or 'jetpt_' in var or 'jetcsv_' in var  or 'jetpn_' in var or 'dr' in var or var=='MET_covXY' : continue    \n",
    "    \n",
    "    if var == 'cutflow':break\n",
    "\n",
    "    for chs in ch:\n",
    "        for region in regions:\n",
    "                print(var,chs,region)\n",
    "                if 'SR' not in region and '_dphi' in var: continue\n",
    "                fig, ((ax),(rax)) = plt.subplots(2, 1, figsize=(12, 12), gridspec_kw={\"height_ratios\": (3, 1)}, sharex=True)\n",
    "                hep.cms.label(\"Work in progress\", data=True, lumi=41.5, year=2017,ax=ax)\n",
    "\n",
    "                fig.subplots_adjust(hspace=.07)  \n",
    "                \n",
    "                plot.plot1d(other[var].sum(\"flav\").sum(\"dataset\").integrate(\"lepflav\",chs).integrate('region',region),stack=True,\n",
    "                            overlay='plotgroup',clear=False,ax=ax)\n",
    "                plot.plot1d(vjets[var].sum(\"flav\").sum(\"dataset\").integrate(\"lepflav\",chs).integrate('region',region),stack=True,\n",
    "                            overlay='plotgroup',clear=False,ax=ax)\n",
    "                plot.plot1d(higgs[var].sum(\"flav\").sum(\"datasetSplit\").integrate(\"lepflav\",chs).integrate('region',region),stack=False,\n",
    "                            overlay='plotgroup',clear=False,ax=ax)\n",
    "                #plot.plot1d(vjets_ext[var].sum(\"flav\").sum(\"dataset\").integrate(\"lepflav\",chs).integrate('region',region),stack=True,\n",
    "                #            overlay='plotgroup',clear=False,ax=ax)\n",
    "                #print(something[var].sum(\"flav\").sum(\"dataset\").sum(\"datasetSplit\").integrate(\"lepflav\",chs).integrate('region',region))\n",
    "                plot.plot1d(data[var].sum(\"flav\").sum(\"dataset\").sum(\"plotgroup\").integrate(\"lepflav\",chs).integrate('region',region),clear=False,error_opts=data_err_opts,ax=ax)\n",
    "                \n",
    "                #rax = plot.plotratio(num=hdata,\n",
    "                #                                denom=hmc.sum('plotgroup').sum('flav'),\n",
    "                #                                        ax=rax,\n",
    "                #                                        error_opts=data_err_opts,\n",
    "                #                                        denom_fill_opts={},                                              \n",
    "        #                                       \n",
    "                #                                       unc='num',\n",
    "                #                                   clear=False\n",
    "                #                                       )\n",
    "                  \n",
    "#                 \n",
    "                rax.set_ylim(0.5,1.5)\n",
    "                rax.set_ylabel('Data/MC')\n",
    "                rax.set_xlabel(var)\n",
    "                ax.set_xlabel('')\n",
    "                chl = chs\n",
    "                if chs =='mumu' :chl='$\\mu\\mu$'\n",
    "                #if chs =='emu' :chs='e$\\mu$'\n",
    "                at = AnchoredText(chl+\"  \"+region_map[region]+\"\\n\" +r\"H$\\rightarrow c\\overline{c}, 2\\ell$\"                                                         \n",
    "                                            , loc='upper left',frameon=False)\n",
    "                ax.add_artist(at)\n",
    "                leg_label = ax.get_legend_handles_labels()[1][0:]\n",
    "                for (i,lab) in enumerate(leg_label):\n",
    "                    if '#' in lab:\n",
    "                        leg_label[i] = lab.split('#')[0] + r\"$\\bar{\" +lab.split('#')[1].split('{')[1][0] + (r\"})$\" if 't' not in lab else r\"}$\" )\n",
    "                leg_label[-1]='Data'\n",
    "                # leg_label[-2]='Signalx%d' %(scales)\n",
    "#                 print(ax.get_legend_handles_labels()[1])\n",
    "                ax.legend(loc=\"upper right\",handles=ax.get_legend_handles_labels()[0][0:],ncol=2,labels=leg_label,fontsize=18)\n",
    "                hep.mpl_magic(ax= ax)"
   ]
  }
 ],
 "metadata": {
  "kernelspec": {
   "display_name": "Python 3 (ipykernel)",
   "language": "python",
   "name": "python3"
  },
  "language_info": {
   "codemirror_mode": {
    "name": "ipython",
    "version": 3
   },
   "file_extension": ".py",
   "mimetype": "text/x-python",
   "name": "python",
   "nbconvert_exporter": "python",
   "pygments_lexer": "ipython3",
   "version": "3.7.12"
  }
 },
 "nbformat": 4,
 "nbformat_minor": 5
}
